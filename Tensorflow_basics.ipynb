{
  "nbformat": 4,
  "nbformat_minor": 0,
  "metadata": {
    "colab": {
      "name": "Tensorflow_basics.ipynb",
      "provenance": [],
      "toc_visible": true,
      "authorship_tag": "ABX9TyOYZvqwsZ9siGGYDTrbRgJZ",
      "include_colab_link": true
    },
    "kernelspec": {
      "name": "python3",
      "display_name": "Python 3"
    },
    "language_info": {
      "name": "python"
    }
  },
  "cells": [
    {
      "cell_type": "markdown",
      "metadata": {
        "id": "view-in-github",
        "colab_type": "text"
      },
      "source": [
        "<a href=\"https://colab.research.google.com/github/kardelenME/Data-Science/blob/main/Tensorflow_basics.ipynb\" target=\"_parent\"><img src=\"https://colab.research.google.com/assets/colab-badge.svg\" alt=\"Open In Colab\"/></a>"
      ]
    },
    {
      "cell_type": "code",
      "metadata": {
        "colab": {
          "base_uri": "https://localhost:8080/"
        },
        "id": "1rvkuoQp82xV",
        "outputId": "c04048e4-e858-4d4c-dae0-b004c7dcb60d"
      },
      "source": [
        "from google.colab import drive\n",
        "drive.mount('/content/drive')"
      ],
      "execution_count": 2,
      "outputs": [
        {
          "output_type": "stream",
          "text": [
            "Mounted at /content/drive\n"
          ],
          "name": "stdout"
        }
      ]
    },
    {
      "cell_type": "code",
      "metadata": {
        "id": "r-KZgFrCKyTw"
      },
      "source": [
        "import tensorflow as tf\n",
        "import  numpy as np"
      ],
      "execution_count": 3,
      "outputs": []
    },
    {
      "cell_type": "code",
      "metadata": {
        "colab": {
          "base_uri": "https://localhost:8080/"
        },
        "id": "GFhBO3JWFT7u",
        "outputId": "488005c6-7794-4092-a1bf-3201e7a5a4d6"
      },
      "source": [
        "#skaler bir nokta belirtir.(Vektörler yayılım göstermezler(rank=1 için doğruya yayılırlar.rank=2 için düzlemde yer alırlar)\n",
        "rank_0_tensor=tf.constant(4)\n",
        "print(rank_0_tensor)\n"
      ],
      "execution_count": 4,
      "outputs": [
        {
          "output_type": "stream",
          "text": [
            "tf.Tensor(4, shape=(), dtype=int32)\n"
          ],
          "name": "stdout"
        }
      ]
    },
    {
      "cell_type": "code",
      "metadata": {
        "colab": {
          "base_uri": "https://localhost:8080/"
        },
        "id": "6p7jkLoTHFGo",
        "outputId": "3a3d685f-30f6-4469-9c12-ea7a316b43ff"
      },
      "source": [
        "rank_1_tensor=tf.constant([2.0,3.0,4.0])\n",
        "print(rank_1_tensor)\n",
        "\n",
        "rank_2_tensor=tf.constant([[1,2],\n",
        "                          [3,4],\n",
        "                          [5,6]] ,dtype=tf.float16)\n",
        "\n",
        "rank_3_tensor=tf.constant([\n",
        "                           [[0,1,2,3,4],\n",
        "                            [5,6,7,8,9]],\n",
        "                           [[10,11,12,13,14],\n",
        "                            [15,16,17,18,19]],\n",
        "                           [[20,21,22,23,24],\n",
        "                            [25,26,27,28,29]]],dtype=tf.float16)\n",
        "print(rank_3_tensor)\n"
      ],
      "execution_count": 5,
      "outputs": [
        {
          "output_type": "stream",
          "text": [
            "tf.Tensor([2. 3. 4.], shape=(3,), dtype=float32)\n",
            "tf.Tensor(\n",
            "[[[ 0.  1.  2.  3.  4.]\n",
            "  [ 5.  6.  7.  8.  9.]]\n",
            "\n",
            " [[10. 11. 12. 13. 14.]\n",
            "  [15. 16. 17. 18. 19.]]\n",
            "\n",
            " [[20. 21. 22. 23. 24.]\n",
            "  [25. 26. 27. 28. 29.]]], shape=(3, 2, 5), dtype=float16)\n"
          ],
          "name": "stdout"
        }
      ]
    },
    {
      "cell_type": "code",
      "metadata": {
        "colab": {
          "base_uri": "https://localhost:8080/"
        },
        "id": "9RglVNYSnJEN",
        "outputId": "ffc68abe-803e-4a8d-d405-3ec1e2b3d0bc"
      },
      "source": [
        "#tensörü numpya dönüştürebiliriz\n",
        "import numpy as np\n",
        "\n",
        "np.array(rank_2_tensor)\n",
        "rank_2_tensor.numpy()\n"
      ],
      "execution_count": 6,
      "outputs": [
        {
          "output_type": "execute_result",
          "data": {
            "text/plain": [
              "array([[1., 2.],\n",
              "       [3., 4.],\n",
              "       [5., 6.]], dtype=float16)"
            ]
          },
          "metadata": {
            "tags": []
          },
          "execution_count": 6
        }
      ]
    },
    {
      "cell_type": "markdown",
      "metadata": {
        "id": "kKZz2x3Tpauu"
      },
      "source": [
        "tensörler float integerın dışında kompleks sayılar ve string gibi başka türleri de içerir."
      ]
    },
    {
      "cell_type": "markdown",
      "metadata": {
        "id": "iMkfH2rcq-bz"
      },
      "source": [
        "## **Basic math on tensors**"
      ]
    },
    {
      "cell_type": "code",
      "metadata": {
        "colab": {
          "base_uri": "https://localhost:8080/"
        },
        "id": "QnRy9-gbneaB",
        "outputId": "fb84924a-bf59-4526-8e19-ec8573322231"
      },
      "source": [
        "a=tf.constant([[1,2],\n",
        "               [3,4]])\n",
        "b = tf.constant([[1, 1],\n",
        "                 [1, 1]])\n",
        "print(tf.add(a, b))\n",
        "print(tf.multiply(a, b))\n",
        "print(tf.matmul(a, b))\n",
        "\n"
      ],
      "execution_count": 7,
      "outputs": [
        {
          "output_type": "stream",
          "text": [
            "tf.Tensor(\n",
            "[[2 3]\n",
            " [4 5]], shape=(2, 2), dtype=int32)\n",
            "tf.Tensor(\n",
            "[[1 2]\n",
            " [3 4]], shape=(2, 2), dtype=int32)\n",
            "tf.Tensor(\n",
            "[[3 3]\n",
            " [7 7]], shape=(2, 2), dtype=int32)\n"
          ],
          "name": "stdout"
        }
      ]
    },
    {
      "cell_type": "markdown",
      "metadata": {
        "id": "lzC8M8upskaZ"
      },
      "source": [
        "**Note**\n",
        "def matmul(a, b, transpose_a=False, transpose_b=False, adjoint_a=False, adjoint_b=False, a_is_sparse=False, b_is_sparse=False, name=None)\n",
        "Multiplies matrix a by matrix b, producing a * b.\n",
        "If one or both of the matrices contain a lot of zeros, a more efficient multiplication algorithm can be used by setting the corresponding a_is_sparse or b_is_sparse flag to True. These are False by default. This optimization is only available for plain matrices (rank-2 tensors) with datatypes bfloat16 or float32.\n",
        "Tensor with same type and rank as a. transpose_a: If True, a is transposed before multiplication. transpose_b: If True, b is transposed before multiplication. adjoint_a: If True, a is conjugated and transposed before multiplication. adjoint_b: If True, b is conjugated and transposed before multiplication. a_is_sparse: If True, a is treated as a sparse matrix. Notice, this **does not support tf.sparse.SparseTensor**, it just makes optimizations that assume most values in a are zero. See tf.sparse.sparse_dense_matmul for some support for tf.sparse.SparseTensor multiplication. b_is_sparse: If True, b is treated as a sparse matrix. Notice, this **does not support tf.sparse.SparseTensor**, it just makes optimizations that assume most values in a are zero. See tf.sparse.sparse_dense_matmul for some support for tf.sparse.SparseTensor multiplication. name: Name for the operation (optional)."
      ]
    },
    {
      "cell_type": "code",
      "metadata": {
        "colab": {
          "base_uri": "https://localhost:8080/"
        },
        "id": "o0ErH9riw3rP",
        "outputId": "3f6d6398-8f51-4fee-bbf4-66820a8168f2"
      },
      "source": [
        "#matmul is matrix multiplication, not element-wise multiplication\n",
        "\n",
        "print(a+b) #element-wise add\n",
        "print(a*b) #element-wise multiplication\n",
        "print(a@b) #matrix multiplication"
      ],
      "execution_count": 8,
      "outputs": [
        {
          "output_type": "stream",
          "text": [
            "tf.Tensor(\n",
            "[[2 3]\n",
            " [4 5]], shape=(2, 2), dtype=int32)\n",
            "tf.Tensor(\n",
            "[[1 2]\n",
            " [3 4]], shape=(2, 2), dtype=int32)\n",
            "tf.Tensor(\n",
            "[[3 3]\n",
            " [7 7]], shape=(2, 2), dtype=int32)\n"
          ],
          "name": "stdout"
        }
      ]
    },
    {
      "cell_type": "markdown",
      "metadata": {
        "id": "zR9_RNNWxhu_"
      },
      "source": [
        "Tensors are used in all kinds of operations (ops)."
      ]
    },
    {
      "cell_type": "code",
      "metadata": {
        "colab": {
          "base_uri": "https://localhost:8080/"
        },
        "id": "e6Ol4v8WxpLK",
        "outputId": "084504a3-e894-4a2b-c86e-6d84c5d77d6f"
      },
      "source": [
        "c=tf.constant([[4.0,5.0],[10.0,1.0]])\n",
        "\n",
        "#find the largest value\n",
        "print(tf.reduce_max(c))\n",
        "#find the index of the largest value\n",
        "print(tf.argmax(c))\n",
        "#compute the softmax \n",
        "print(tf.nn.softmax(c))"
      ],
      "execution_count": 9,
      "outputs": [
        {
          "output_type": "stream",
          "text": [
            "tf.Tensor(10.0, shape=(), dtype=float32)\n",
            "tf.Tensor([1 0], shape=(2,), dtype=int64)\n",
            "tf.Tensor(\n",
            "[[2.6894143e-01 7.3105860e-01]\n",
            " [9.9987662e-01 1.2339458e-04]], shape=(2, 2), dtype=float32)\n"
          ],
          "name": "stdout"
        }
      ]
    },
    {
      "cell_type": "markdown",
      "metadata": {
        "id": "ePTx9YWdF6BG"
      },
      "source": [
        "\n",
        "\n",
        "*   Shape:tensörün her bir boyutunun uzunluğu\n",
        "*   Rank:Boyut sayısı.Skaler için rank=0.vektör için rank=1 matris için rank=2\n",
        "*   Axis or dimension:tensörün boyutu\n",
        "*   Size:Tensördeki toplam öğe sayısı\n",
        "\n",
        "\n",
        "\n",
        "\n"
      ]
    },
    {
      "cell_type": "markdown",
      "metadata": {
        "id": "EngTt0f-IxJB"
      },
      "source": [
        "**Note ??**\n",
        "Although you may see reference to a \"tensor of two dimensions\", a rank-2 tensor does not usually describe a 2D space."
      ]
    },
    {
      "cell_type": "code",
      "metadata": {
        "id": "saCSDzDnI9rT"
      },
      "source": [
        "rank_4_tensor=tf.zeros([3,2,4,5])\n"
      ],
      "execution_count": 10,
      "outputs": []
    },
    {
      "cell_type": "markdown",
      "metadata": {
        "id": "6frKWrZfLg6r"
      },
      "source": [
        "axis 0->3->batch\n",
        "\n",
        "axis 1->2->width\n",
        "\n",
        "axis 2->4->height\n",
        "\n",
        "axis -1->5->features"
      ]
    },
    {
      "cell_type": "code",
      "metadata": {
        "colab": {
          "base_uri": "https://localhost:8080/"
        },
        "id": "yTQmQTOfLse6",
        "outputId": "dfda671d-8c90-4219-bbea-68b33e9dc045"
      },
      "source": [
        "print(\"type of every element:\", rank_4_tensor.dtype)\n",
        "print(\"number of axes:\", rank_4_tensor.ndim) #returns the Number of tensor DIMensions\n",
        "print(\"shape of tensor:\", rank_4_tensor.shape)\n",
        "print(\"elements along axis 0 of tensor:\", rank_4_tensor.shape[0])\n",
        "print(\"elements along the last axis of tensor:\", rank_4_tensor.shape[-1])\n",
        "print(\"total number of elements(3*2*4*5):\", tf.size(rank_4_tensor).numpy())"
      ],
      "execution_count": 11,
      "outputs": [
        {
          "output_type": "stream",
          "text": [
            "type of every element: <dtype: 'float32'>\n",
            "number of axes: 4\n",
            "shape of tensor: (3, 2, 4, 5)\n",
            "elements along axis 0 of tensor: 3\n",
            "elements along the last axis of tensor: 5\n",
            "total number of elements(3*2*4*5): 120\n"
          ],
          "name": "stdout"
        }
      ]
    },
    {
      "cell_type": "markdown",
      "metadata": {
        "id": "smDHpN8tQyKS"
      },
      "source": [
        "## **Indexing**\n",
        "### Single-axis indexing\n",
        "TensorFlow follows standard Python indexing rules\n",
        "\n",
        "indexes start at 0\n",
        "\n",
        "negative indices count backwards from the end\n",
        "\n",
        "colons, :, are used for slices: start:stop:step"
      ]
    },
    {
      "cell_type": "code",
      "metadata": {
        "colab": {
          "base_uri": "https://localhost:8080/"
        },
        "id": "mVUzG20OTzaS",
        "outputId": "1a70b980-05af-469a-dc58-1069f5887a87"
      },
      "source": [
        "rank_1_tensor=tf.constant([0,1,2,3,4,5,6,7])\n",
        "print(rank_1_tensor.numpy())\n",
        "print(\"second:\", rank_1_tensor[1].numpy())\n",
        "print(\"last:\",rank_1_tensor[-1].numpy())"
      ],
      "execution_count": 12,
      "outputs": [
        {
          "output_type": "stream",
          "text": [
            "[0 1 2 3 4 5 6 7]\n",
            "second: 1\n",
            "last: 7\n"
          ],
          "name": "stdout"
        }
      ]
    },
    {
      "cell_type": "code",
      "metadata": {
        "colab": {
          "base_uri": "https://localhost:8080/"
        },
        "id": "zjHohlt-UpbZ",
        "outputId": "3588fe10-50a0-4d2c-c5e9-e23a9b63eb61"
      },
      "source": [
        "print(\"everything:\",rank_1_tensor[:].numpy())\n",
        "print(\"before 4:\",rank_1_tensor[:4].numpy())\n",
        "print(\"from 4 to the end\",rank_1_tensor[4:].numpy())\n",
        "print(\"from 2,before 7\",rank_1_tensor[2:7].numpy())\n",
        "print(\"every other item\",rank_1_tensor[::2].numpy())\n",
        "print(\"reversed\",rank_1_tensor[::-1].numpy())"
      ],
      "execution_count": 13,
      "outputs": [
        {
          "output_type": "stream",
          "text": [
            "everything: [0 1 2 3 4 5 6 7]\n",
            "before 4: [0 1 2 3]\n",
            "from 4 to the end [4 5 6 7]\n",
            "from 2,before 7 [2 3 4 5 6]\n",
            "every other item [0 2 4 6]\n",
            "reversed [7 6 5 4 3 2 1 0]\n"
          ],
          "name": "stdout"
        }
      ]
    },
    {
      "cell_type": "markdown",
      "metadata": {
        "id": "CiFhWB6FVguV"
      },
      "source": [
        "### Multi-axis indexing\n",
        "\n",
        "Kurallar her eksen için bağımsız olarak geçerlidir."
      ]
    },
    {
      "cell_type": "code",
      "metadata": {
        "colab": {
          "base_uri": "https://localhost:8080/"
        },
        "id": "spnTh_WYVzGV",
        "outputId": "d500545d-fa1b-4aff-dc08-02fecdeed3e7"
      },
      "source": [
        "print(rank_2_tensor.numpy())\n",
        "print(rank_2_tensor[1,-2].numpy())\n",
        "\n",
        "#get row and column tensors\n",
        "print(\"second row:\",rank_2_tensor[1,:].numpy())\n",
        "print(\"second column:\",rank_2_tensor[:,1].numpy())\n",
        "print(\"last row:\",rank_2_tensor[-1,:].numpy())\n",
        "print(\"first item in last column:\",rank_2_tensor[0,-1].numpy())\n",
        "print(\"skip the first row:\",rank_2_tensor[1:,:].numpy())\n",
        "\n",
        "\n"
      ],
      "execution_count": 14,
      "outputs": [
        {
          "output_type": "stream",
          "text": [
            "[[1. 2.]\n",
            " [3. 4.]\n",
            " [5. 6.]]\n",
            "3.0\n",
            "second row: [3. 4.]\n",
            "second column: [2. 4. 6.]\n",
            "last row: [5. 6.]\n",
            "first item in last column: 2.0\n",
            "skip the first row: [[3. 4.]\n",
            " [5. 6.]]\n"
          ],
          "name": "stdout"
        }
      ]
    },
    {
      "cell_type": "code",
      "metadata": {
        "colab": {
          "base_uri": "https://localhost:8080/"
        },
        "id": "f_l2TJMKHh1Y",
        "outputId": "3bbc45ab-170b-4cf5-f4f6-57d2d770b189"
      },
      "source": [
        "#her örneğin son özelliğini seçme\n",
        "print(rank_3_tensor[:,:,4])"
      ],
      "execution_count": 15,
      "outputs": [
        {
          "output_type": "stream",
          "text": [
            "tf.Tensor(\n",
            "[[ 4.  9.]\n",
            " [14. 19.]\n",
            " [24. 29.]], shape=(3, 2), dtype=float16)\n"
          ],
          "name": "stdout"
        }
      ]
    },
    {
      "cell_type": "markdown",
      "metadata": {
        "id": "GJMk4TK7JCRe"
      },
      "source": [
        "###Manipulating Shapes\n"
      ]
    },
    {
      "cell_type": "code",
      "metadata": {
        "colab": {
          "base_uri": "https://localhost:8080/"
        },
        "id": "JKq4IGOEK9NZ",
        "outputId": "a430a497-1509-4928-b057-376161877d5e"
      },
      "source": [
        "x=tf.constant([[1],[2],[3]])\n",
        "print(x.shape)\n",
        "\n",
        "print(x.shape.as_list())\n",
        "\n",
        "reshaped=tf.reshape(x,[1,3])\n",
        "print(x.shape)\n",
        "print(reshaped.shape)"
      ],
      "execution_count": 19,
      "outputs": [
        {
          "output_type": "stream",
          "text": [
            "(3, 1)\n",
            "[3, 1]\n",
            "(3, 1)\n",
            "(1, 3)\n"
          ],
          "name": "stdout"
        }
      ]
    },
    {
      "cell_type": "code",
      "metadata": {
        "colab": {
          "base_uri": "https://localhost:8080/"
        },
        "id": "i8u7VQ6NLZq7",
        "outputId": "e164a783-b022-40a4-cc5f-a18db967b897"
      },
      "source": [
        "print(rank_3_tensor)\n",
        "#bir tensörü düzleştirirseniz,hafızaya hangi sırayla yerleştirildiğini görebilirsiniz:\n",
        "print(tf.reshape(rank_3_tensor,[-1]))\n"
      ],
      "execution_count": 21,
      "outputs": [
        {
          "output_type": "stream",
          "text": [
            "tf.Tensor(\n",
            "[[[ 0.  1.  2.  3.  4.]\n",
            "  [ 5.  6.  7.  8.  9.]]\n",
            "\n",
            " [[10. 11. 12. 13. 14.]\n",
            "  [15. 16. 17. 18. 19.]]\n",
            "\n",
            " [[20. 21. 22. 23. 24.]\n",
            "  [25. 26. 27. 28. 29.]]], shape=(3, 2, 5), dtype=float16)\n",
            "tf.Tensor(\n",
            "[ 0.  1.  2.  3.  4.  5.  6.  7.  8.  9. 10. 11. 12. 13. 14. 15. 16. 17.\n",
            " 18. 19. 20. 21. 22. 23. 24. 25. 26. 27. 28. 29.], shape=(30,), dtype=float16)\n"
          ],
          "name": "stdout"
        }
      ]
    },
    {
      "cell_type": "code",
      "metadata": {
        "colab": {
          "base_uri": "https://localhost:8080/"
        },
        "id": "7o_bXPlBNuyn",
        "outputId": "f807326c-0a2e-4586-8286-50062c04354c"
      },
      "source": [
        "#ancak dilimlerin karışmaması için (3x2)x5 veya 3x(2x5) olarak yeniden şekillendirmek daha mantıklıdır:\n",
        "print(tf.reshape(rank_3_tensor,[3*2,5]))\n",
        "print(tf.reshape(rank_3_tensor,[3,2*5]))# veya [3,-1] şeklinde ifade edilebilir.\n",
        "#rasgele uygun sayılarla farklı reshapeler yapmak mümkün ama anlamsız bir eksen sıralaması işimize yaramaz:\n",
        "print(tf.reshape(rank_3_tensor,[5,6]))"
      ],
      "execution_count": 24,
      "outputs": [
        {
          "output_type": "stream",
          "text": [
            "tf.Tensor(\n",
            "[[ 0.  1.  2.  3.  4.]\n",
            " [ 5.  6.  7.  8.  9.]\n",
            " [10. 11. 12. 13. 14.]\n",
            " [15. 16. 17. 18. 19.]\n",
            " [20. 21. 22. 23. 24.]\n",
            " [25. 26. 27. 28. 29.]], shape=(6, 5), dtype=float16)\n",
            "tf.Tensor(\n",
            "[[ 0.  1.  2.  3.  4.  5.  6.  7.  8.  9.]\n",
            " [10. 11. 12. 13. 14. 15. 16. 17. 18. 19.]\n",
            " [20. 21. 22. 23. 24. 25. 26. 27. 28. 29.]], shape=(3, 10), dtype=float16)\n",
            "tf.Tensor(\n",
            "[[ 0.  1.  2.  3.  4.  5.]\n",
            " [ 6.  7.  8.  9. 10. 11.]\n",
            " [12. 13. 14. 15. 16. 17.]\n",
            " [18. 19. 20. 21. 22. 23.]\n",
            " [24. 25. 26. 27. 28. 29.]], shape=(5, 6), dtype=float16)\n"
          ],
          "name": "stdout"
        }
      ]
    },
    {
      "cell_type": "markdown",
      "metadata": {
        "id": "bBL74MYyPQN2"
      },
      "source": [
        "## **Broadcasting**"
      ]
    },
    {
      "cell_type": "markdown",
      "metadata": {
        "id": "s8W0vVAVPz22"
      },
      "source": [
        "Broadcasting, Numpy'daki equivalent feature dan gelir.\n",
        "Daha küçük dizi, uyumlu şekillere sahip olmaları için daha büyük dizi boyunca \"broadcast edilir/yayınlanır\".Broadcast, dizi işlemlerini vektörleştirmenin bir yolunu sağlar, böylece döngü Python yerine C'de gerçekleşir. Bunu gereksiz veri kopyaları yapmadan yapar ve genellikle verimli algoritma uygulamalarına yol açar. Bilgisayarı yavaşlatan belleğin verimsiz kullanımına yol açtığı için yayın yapmanın kötü bir fikir olduğu durumlar da vardır.Bu konu sonra detaylandırılacaktır.\n"
      ]
    },
    {
      "cell_type": "code",
      "metadata": {
        "colab": {
          "base_uri": "https://localhost:8080/"
        },
        "id": "GHiWSxZmPk7o",
        "outputId": "3155b67d-185d-496c-8a53-27284341d363"
      },
      "source": [
        "x=tf.constant([1,2,3])\n",
        "y=tf.constant(2)\n",
        "z=tf.constant([2,2,2])\n",
        "#All of these are the same computation\n",
        "print(tf.multiply(x,2))\n",
        "print(x*y)\n",
        "print(x*z)"
      ],
      "execution_count": 26,
      "outputs": [
        {
          "output_type": "stream",
          "text": [
            "tf.Tensor([2 4 6], shape=(3,), dtype=int32)\n",
            "tf.Tensor([2 4 6], shape=(3,), dtype=int32)\n",
            "tf.Tensor([2 4 6], shape=(3,), dtype=int32)\n"
          ],
          "name": "stdout"
        }
      ]
    },
    {
      "cell_type": "code",
      "metadata": {
        "colab": {
          "base_uri": "https://localhost:8080/"
        },
        "id": "EoQ4NmPkXbgZ",
        "outputId": "ff57c09e-12e2-4792-8ab5-80405c04a958"
      },
      "source": [
        "#these are the same computations\n",
        "x=tf.reshape(x,[3,1])\n",
        "y=tf.range(1,5)\n",
        "print(x)\n",
        "print(y)\n",
        "print(tf.multiply(x,y))"
      ],
      "execution_count": 28,
      "outputs": [
        {
          "output_type": "stream",
          "text": [
            "tf.Tensor(\n",
            "[[1]\n",
            " [2]\n",
            " [3]], shape=(3, 1), dtype=int32)\n",
            "tf.Tensor([1 2 3 4], shape=(4,), dtype=int32)\n",
            "tf.Tensor(\n",
            "[[ 1  2  3  4]\n",
            " [ 2  4  6  8]\n",
            " [ 3  6  9 12]], shape=(3, 4), dtype=int32)\n"
          ],
          "name": "stdout"
        }
      ]
    },
    {
      "cell_type": "code",
      "metadata": {
        "colab": {
          "base_uri": "https://localhost:8080/"
        },
        "id": "r1pFMGmyX7rx",
        "outputId": "6be477cd-f02d-4713-bdad-7c31443bf342"
      },
      "source": [
        "#same operation without broadcasting\n",
        "x_stretch = tf.constant([[1, 1, 1, 1],\n",
        "                         [2, 2, 2, 2],\n",
        "                         [3, 3, 3, 3]])\n",
        "\n",
        "y_stretch = tf.constant([[1, 2, 3, 4],\n",
        "                         [1, 2, 3, 4],\n",
        "                         [1, 2, 3, 4]])\n",
        "\n",
        "print(x_stretch * y_stretch)  "
      ],
      "execution_count": 29,
      "outputs": [
        {
          "output_type": "stream",
          "text": [
            "tf.Tensor(\n",
            "[[ 1  2  3  4]\n",
            " [ 2  4  6  8]\n",
            " [ 3  6  9 12]], shape=(3, 4), dtype=int32)\n"
          ],
          "name": "stdout"
        }
      ]
    },
    {
      "cell_type": "markdown",
      "metadata": {
        "id": "OIqUXPykY21v"
      },
      "source": [
        "## **Ragged Tensor**"
      ]
    },
    {
      "cell_type": "code",
      "metadata": {
        "id": "Mw4TbNf_Y63F"
      },
      "source": [
        "ragged_list= [\n",
        "              [0,1,2,3],\n",
        "              [4,5],\n",
        "              [6,7,8],\n",
        "              [9]]"
      ],
      "execution_count": 30,
      "outputs": []
    },
    {
      "cell_type": "code",
      "metadata": {
        "colab": {
          "base_uri": "https://localhost:8080/"
        },
        "id": "hJyC9fyiZihs",
        "outputId": "b0660b41-cc84-4540-b73c-ba843b781fc6"
      },
      "source": [
        "ragged_tensor=tf.ragged.constant(ragged_list)\n",
        "print(ragged_tensor)\n",
        "print(ragged_tensor.shape)"
      ],
      "execution_count": 32,
      "outputs": [
        {
          "output_type": "stream",
          "text": [
            "<tf.RaggedTensor [[0, 1, 2, 3], [4, 5], [6, 7, 8], [9]]>\n",
            "(4, None)\n"
          ],
          "name": "stdout"
        }
      ]
    },
    {
      "cell_type": "markdown",
      "metadata": {
        "id": "PBusKpkBaAiu"
      },
      "source": [
        "##**String Tensors** "
      ]
    },
    {
      "cell_type": "code",
      "metadata": {
        "colab": {
          "base_uri": "https://localhost:8080/"
        },
        "id": "X8PljPgTaYHx",
        "outputId": "e33bea94-cf02-4579-ccdc-90f8bbd1a61d"
      },
      "source": [
        "#tensor can be strings:\n",
        "scalar_string_tensor=tf.constant(\"Gray wolf\")\n",
        "print(scalar_string_tensor)"
      ],
      "execution_count": 33,
      "outputs": [
        {
          "output_type": "stream",
          "text": [
            "tf.Tensor(b'Gray wolf', shape=(), dtype=string)\n"
          ],
          "name": "stdout"
        }
      ]
    },
    {
      "cell_type": "code",
      "metadata": {
        "colab": {
          "base_uri": "https://localhost:8080/"
        },
        "id": "HMR6pkgicEN6",
        "outputId": "aea1fd4e-d6a6-486e-f4ba-341b01d196ad"
      },
      "source": [
        "tensor_of_strings=tf.constant([\"Gray wolf\",\n",
        "                               \"Quick brown fox\",\n",
        "                               \"Lazy dog\"])\n",
        "#shape ettiğimizde sadece verinin boyutlarını alırız stringlerin uzunluğunu değil.\n",
        "print(tensor_of_strings)"
      ],
      "execution_count": 35,
      "outputs": [
        {
          "output_type": "stream",
          "text": [
            "tf.Tensor([b'Gray wolf' b'Quick brown fox' b'Lazy dog'], shape=(3,), dtype=string)\n"
          ],
          "name": "stdout"
        }
      ]
    },
    {
      "cell_type": "markdown",
      "metadata": {
        "id": "_QJeB0KGdBUH"
      },
      "source": [
        "string tensorü split metoduyla parçalayabiliriz ve her kelimeyi ayırabiliriz ancak her bir string cümle eşit sayıda kelime düzeninde değilse ragged tensörü elde ederiz."
      ]
    },
    {
      "cell_type": "code",
      "metadata": {
        "colab": {
          "base_uri": "https://localhost:8080/"
        },
        "id": "DZIo8jlUdSPd",
        "outputId": "5a0702fc-406f-4651-b390-80e392a4e30d"
      },
      "source": [
        "print(tf.strings.split(scalar_string_tensor,sep=\" \"))\n",
        "print(tf.strings.split(tensor_of_strings))"
      ],
      "execution_count": 36,
      "outputs": [
        {
          "output_type": "stream",
          "text": [
            "tf.Tensor([b'Gray' b'wolf'], shape=(2,), dtype=string)\n",
            "<tf.RaggedTensor [[b'Gray', b'wolf'], [b'Quick', b'brown', b'fox'], [b'Lazy', b'dog']]>\n"
          ],
          "name": "stdout"
        }
      ]
    },
    {
      "cell_type": "code",
      "metadata": {
        "id": "SHIj7UaBdp5S"
      },
      "source": [
        "text=tf.constant(\"1 10 100\")\n",
        "print(tf.strings.to_number(tf.strings.split(text,\" \")))"
      ],
      "execution_count": null,
      "outputs": []
    },
    {
      "cell_type": "markdown",
      "metadata": {
        "id": "1YzviBeWeHCy"
      },
      "source": [
        "##**Sparse Tensor**"
      ]
    },
    {
      "cell_type": "code",
      "metadata": {
        "colab": {
          "base_uri": "https://localhost:8080/"
        },
        "id": "wI0yFAlTeRP0",
        "outputId": "98c008b8-5f61-4ad0-f56c-2af5e08f8a26"
      },
      "source": [
        "# Sparse tensors store values by index in a memory-efficient manner\n",
        "sparse_tensor = tf.sparse.SparseTensor(indices=[[0, 0], [1, 2]],\n",
        "                                       values=[1, 2],\n",
        "                                       dense_shape=[3, 4])\n",
        "print(sparse_tensor, \"\\n\")\n",
        "\n",
        "# You can convert sparse tensors to dense\n",
        "print(tf.sparse.to_dense(sparse_tensor))"
      ],
      "execution_count": 37,
      "outputs": [
        {
          "output_type": "stream",
          "text": [
            "SparseTensor(indices=tf.Tensor(\n",
            "[[0 0]\n",
            " [1 2]], shape=(2, 2), dtype=int64), values=tf.Tensor([1 2], shape=(2,), dtype=int32), dense_shape=tf.Tensor([3 4], shape=(2,), dtype=int64)) \n",
            "\n",
            "tf.Tensor(\n",
            "[[1 0 0 0]\n",
            " [0 0 2 0]\n",
            " [0 0 0 0]], shape=(3, 4), dtype=int32)\n"
          ],
          "name": "stdout"
        }
      ]
    }
  ]
}