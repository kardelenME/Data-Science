{
  "nbformat": 4,
  "nbformat_minor": 0,
  "metadata": {
    "colab": {
      "name": "NumpyArrays.ipynb",
      "provenance": []
    },
    "kernelspec": {
      "name": "python3",
      "display_name": "Python 3"
    },
    "language_info": {
      "name": "python"
    }
  },
  "cells": [
    {
      "cell_type": "code",
      "metadata": {
        "colab": {
          "base_uri": "https://localhost:8080/"
        },
        "id": "PsLiP_Ael7wI",
        "outputId": "a1e3e76a-8fc5-453d-eec6-6f12f18736f1"
      },
      "source": [
        "from google.colab import drive\n",
        "drive.mount('/content/drive')\n"
      ],
      "execution_count": 1,
      "outputs": [
        {
          "output_type": "stream",
          "text": [
            "Mounted at /content/drive\n"
          ],
          "name": "stdout"
        }
      ]
    },
    {
      "cell_type": "markdown",
      "metadata": {
        "id": "LjpOZ4ePmYOE"
      },
      "source": [
        "# Index, Slice and Reshape NumPy Arrays"
      ]
    },
    {
      "cell_type": "code",
      "metadata": {
        "colab": {
          "base_uri": "https://localhost:8080/"
        },
        "id": "qqMWNLmeWKc_",
        "outputId": "a7725176-a797-484c-f862-e0ea41b6a602"
      },
      "source": [
        "#one-dimensional array\n",
        "from numpy import array\n",
        "#list of data\n",
        "data=[11,22,33,44,55]\n",
        "#array of data\n",
        "data=array(data)\n",
        "print(data)\n",
        "print(type(data))\n",
        "data2=[[11, 22],[33, 44],[55, 66]]\n",
        "data=array(data)\n",
        "print(data2)\n",
        "print(type(data2))"
      ],
      "execution_count": 2,
      "outputs": [
        {
          "output_type": "stream",
          "text": [
            "[11 22 33 44 55]\n",
            "<class 'numpy.ndarray'>\n",
            "[[11, 22], [33, 44], [55, 66]]\n",
            "<class 'list'>\n"
          ],
          "name": "stdout"
        }
      ]
    },
    {
      "cell_type": "code",
      "metadata": {
        "colab": {
          "base_uri": "https://localhost:8080/"
        },
        "id": "KoMcdMDZm0S9",
        "outputId": "8a00b335-94ee-489a-d20d-1f530e0cc271"
      },
      "source": [
        "#index a one dimensional array\n",
        "from numpy import array\n",
        "#define array\n",
        "data=array([11, 22,33,44,55])\n",
        "#index data\n",
        "print(data[0])\n",
        "\n",
        "#negative array indexing\n",
        "print(data[-1])\n",
        "print(data[-5])\n",
        "#two dimensional indexing\n",
        "data0=array([[11,22],[33,44],[55,66]])\n",
        "print(data0[0,0])\n",
        "print(data0[2,1])\n",
        "#İlk satırdaki tüm öğelerle ilgileniyorsak:\n",
        "print(data0[0,])"
      ],
      "execution_count": 3,
      "outputs": [
        {
          "output_type": "stream",
          "text": [
            "11\n",
            "55\n",
            "11\n",
            "11\n",
            "66\n",
            "[11 22]\n"
          ],
          "name": "stdout"
        }
      ]
    },
    {
      "cell_type": "code",
      "metadata": {
        "colab": {
          "base_uri": "https://localhost:8080/"
        },
        "id": "-FDpVim4nQUh",
        "outputId": "242a289d-27a2-403e-e73e-2a4c5dddaaeb"
      },
      "source": [
        "#slice a one-dimensional array\n",
        "from numpy import array\n",
        "data=array([11,22,33,44,55,66])\n",
        "#Bir dizi boyutundaki tüm verilere, `: 'ile  erişebiliriz.\n",
        "print(data[:])\n",
        "#veya n. elemandan m.elemana n:m ile ulaşabiliriz.\n",
        "print(data[0:3])\n",
        "#sondaki m elemana erişmek için -m:0  kullanılır\n",
        "print(data[-2:])"
      ],
      "execution_count": 4,
      "outputs": [
        {
          "output_type": "stream",
          "text": [
            "[11 22 33 44 55 66]\n",
            "[11 22 33]\n",
            "[55 66]\n"
          ],
          "name": "stdout"
        }
      ]
    },
    {
      "cell_type": "code",
      "metadata": {
        "colab": {
          "base_uri": "https://localhost:8080/"
        },
        "id": "v_mygt_OnRrb",
        "outputId": "2abadbc1-55b3-4a33-ed5a-64227e397c18"
      },
      "source": [
        "#Slicing the input/output variables\n",
        "#X=[:,:-1] taking all rows (:) but keeping the last column\n",
        "#y[:,-1]  taking all rows (:) but just last column\n",
        "\n",
        "from numpy import array\n",
        "data=array([[11,22,33],[44,55,66],[77,88,99]])\n",
        "X,y=data[:,:-1],data[:,-1]\n",
        "print(X)\n",
        "print(y)"
      ],
      "execution_count": 5,
      "outputs": [
        {
          "output_type": "stream",
          "text": [
            "[[11 22]\n",
            " [44 55]\n",
            " [77 88]]\n",
            "[33 66 99]\n"
          ],
          "name": "stdout"
        }
      ]
    },
    {
      "cell_type": "markdown",
      "metadata": {
        "id": "ltvPDSIQnXnn"
      },
      "source": [
        "**spilt train and test rows**"
      ]
    },
    {
      "cell_type": "code",
      "metadata": {
        "colab": {
          "base_uri": "https://localhost:8080/",
          "height": 212
        },
        "id": "Kra5p-9KnZyu",
        "outputId": "93650325-6b59-483f-e8e8-a5a3ea23cdc1"
      },
      "source": [
        "#Example of slicing a train set from a dataset:\n",
        "train=data[:split,:]\n",
        "#Example of slicing a test set from a dataset.\n",
        "test=data[split:,:]"
      ],
      "execution_count": 6,
      "outputs": [
        {
          "output_type": "error",
          "ename": "NameError",
          "evalue": "ignored",
          "traceback": [
            "\u001b[0;31m---------------------------------------------------------------------------\u001b[0m",
            "\u001b[0;31mNameError\u001b[0m                                 Traceback (most recent call last)",
            "\u001b[0;32m<ipython-input-6-2536285bcadf>\u001b[0m in \u001b[0;36m<module>\u001b[0;34m()\u001b[0m\n\u001b[1;32m      1\u001b[0m \u001b[0;31m#Example of slicing a train set from a dataset:\u001b[0m\u001b[0;34m\u001b[0m\u001b[0;34m\u001b[0m\u001b[0;34m\u001b[0m\u001b[0m\n\u001b[0;32m----> 2\u001b[0;31m \u001b[0mtrain\u001b[0m\u001b[0;34m=\u001b[0m\u001b[0mdata\u001b[0m\u001b[0;34m[\u001b[0m\u001b[0;34m:\u001b[0m\u001b[0msplit\u001b[0m\u001b[0;34m,\u001b[0m\u001b[0;34m:\u001b[0m\u001b[0;34m]\u001b[0m\u001b[0;34m\u001b[0m\u001b[0;34m\u001b[0m\u001b[0m\n\u001b[0m\u001b[1;32m      3\u001b[0m \u001b[0;31m#Example of slicing a test set from a dataset.\u001b[0m\u001b[0;34m\u001b[0m\u001b[0;34m\u001b[0m\u001b[0;34m\u001b[0m\u001b[0m\n\u001b[1;32m      4\u001b[0m \u001b[0mtest\u001b[0m\u001b[0;34m=\u001b[0m\u001b[0mdata\u001b[0m\u001b[0;34m[\u001b[0m\u001b[0msplit\u001b[0m\u001b[0;34m:\u001b[0m\u001b[0;34m,\u001b[0m\u001b[0;34m:\u001b[0m\u001b[0;34m]\u001b[0m\u001b[0;34m\u001b[0m\u001b[0;34m\u001b[0m\u001b[0m\n",
            "\u001b[0;31mNameError\u001b[0m: name 'split' is not defined"
          ]
        }
      ]
    },
    {
      "cell_type": "code",
      "metadata": {
        "colab": {
          "base_uri": "https://localhost:8080/"
        },
        "id": "UGJoKXs_nmpg",
        "outputId": "836a4715-a773-40cd-869b-aabf9ecd0308"
      },
      "source": [
        "data=array([[11,22,33],\n",
        "           [44,55,66],\n",
        "           [77,88,99]])\n",
        "#seperate data\n",
        "# The training dataset would be all rows from the beginning to the split point.\n",
        "split=2\n",
        "train,test=data[:split,:],data[split:,:]\n",
        "print(train)\n",
        "print(test)"
      ],
      "execution_count": 7,
      "outputs": [
        {
          "output_type": "stream",
          "text": [
            "[[11 22 33]\n",
            " [44 55 66]]\n",
            "[[77 88 99]]\n"
          ],
          "name": "stdout"
        }
      ]
    },
    {
      "cell_type": "markdown",
      "metadata": {
        "id": "2G6vJNrenp1z"
      },
      "source": [
        "**data shape**"
      ]
    },
    {
      "cell_type": "code",
      "metadata": {
        "colab": {
          "base_uri": "https://localhost:8080/"
        },
        "id": "B1WQ3WEZnstS",
        "outputId": "3c3f7fc9-9f86-4547-d127-64efb8105285"
      },
      "source": [
        "#shape of one-dimensional array\n",
        "from numpy import array\n",
        "data=array([11,22,33,44,55])\n",
        "print(data.shape)\n",
        "#Running the example prints a tuple for the one dimension.\n",
        "\n",
        "#shape of a two-dimensional array\n",
        "from numpy import array\n",
        "data=[[11,22],\n",
        "      [33,44],\n",
        "      [55,66]]\n",
        "data=array(data)\n",
        "print(data.shape)\n",
        "\n",
        "#row and column shape of two-dimensional array\n",
        "data=[[11,22],\n",
        "      [33,44],\n",
        "      [55,66]]\n",
        "data=array(data)\n",
        "print('Rows: %d' %data.shape[0])\n",
        "print('Cols: %d' % data.shape[1])"
      ],
      "execution_count": 9,
      "outputs": [
        {
          "output_type": "stream",
          "text": [
            "(5,)\n",
            "(3, 2)\n",
            "Rows: 3\n",
            "Cols: 2\n"
          ],
          "name": "stdout"
        }
      ]
    },
    {
      "cell_type": "code",
      "metadata": {
        "colab": {
          "base_uri": "https://localhost:8080/"
        },
        "id": "ah8mUMtSn-8U",
        "outputId": "0d782789-095c-4473-bedf-4df2ea11bfe7"
      },
      "source": [
        "#reshape 1D array to 2D\n",
        "from numpy import array\n",
        "data=array([11,22,33,44,55,66])\n",
        "print(data.shape)\n",
        "data=data.reshape((data.shape[0],1))\n",
        "print(data.shape)\n",
        "print(data)\n",
        "#6 rows and 1 column"
      ],
      "execution_count": 10,
      "outputs": [
        {
          "output_type": "stream",
          "text": [
            "(6,)\n",
            "(6, 1)\n",
            "[[11]\n",
            " [22]\n",
            " [33]\n",
            " [44]\n",
            " [55]\n",
            " [66]]\n"
          ],
          "name": "stdout"
        }
      ]
    }
  ]
}