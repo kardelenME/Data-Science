{
  "nbformat": 4,
  "nbformat_minor": 0,
  "metadata": {
    "colab": {
      "name": "matrices&determinants.ipynb",
      "provenance": []
    },
    "kernelspec": {
      "name": "python3",
      "display_name": "Python 3"
    },
    "language_info": {
      "name": "python"
    }
  },
  "cells": [
    {
      "cell_type": "code",
      "metadata": {
        "colab": {
          "base_uri": "https://localhost:8080/"
        },
        "id": "cbEh0tBXZ4Nl",
        "outputId": "0dd97a9e-6a87-4ac9-a0df-f9af83383e46"
      },
      "source": [
        "from google.colab import drive\n",
        "drive.mount('/content/drive')"
      ],
      "execution_count": 2,
      "outputs": [
        {
          "output_type": "stream",
          "text": [
            "Mounted at /content/drive\n"
          ],
          "name": "stdout"
        }
      ]
    },
    {
      "cell_type": "markdown",
      "metadata": {
        "id": "2FWrCPpTacf6"
      },
      "source": [
        "# Matrices"
      ]
    },
    {
      "cell_type": "code",
      "metadata": {
        "colab": {
          "base_uri": "https://localhost:8080/"
        },
        "id": "v1RIfMPeaijm",
        "outputId": "f83c0914-9fe0-425f-85c0-87f7a3c4d1bf"
      },
      "source": [
        "#create a vector\n",
        "from numpy import array\n",
        "v=array([1,2,3])\n",
        "print(v)\n",
        "\n",
        "#vector arithmetic\n",
        "a=array([1,2,3])\n",
        "print('a: ',a)\n",
        "b=array([1,2,3])\n",
        "print('b: ',b)\n",
        "c=a+b\n",
        "print('a+b: ',c)\n",
        "d=array([0.1,0.5,0.9])\n",
        "print('d: ',d)\n",
        "e=a-d\n",
        "print('a-d: ',e)\n",
        "f=d*b\n",
        "print('d*b',f)\n",
        "g=d/b\n",
        "print('d/b',g)\n"
      ],
      "execution_count": 3,
      "outputs": [
        {
          "output_type": "stream",
          "text": [
            "[1 2 3]\n",
            "a:  [1 2 3]\n",
            "b:  [1 2 3]\n",
            "a+b:  [2 4 6]\n",
            "d:  [0.1 0.5 0.9]\n",
            "a-d:  [0.9 1.5 2.1]\n",
            "d*b [0.1 1.  2.7]\n",
            "d/b [0.1  0.25 0.3 ]\n"
          ],
          "name": "stdout"
        }
      ]
    },
    {
      "cell_type": "markdown",
      "metadata": {
        "id": "QTqqjTPMEfmU"
      },
      "source": [
        "**vector dot product**\n",
        "\n",
        "\n",
        "\n",
        "c=a.b\n",
        "c=(a1*b1+a2*b2+a3*b3)"
      ]
    },
    {
      "cell_type": "code",
      "metadata": {
        "colab": {
          "base_uri": "https://localhost:8080/"
        },
        "id": "w9KiYIEkatYO",
        "outputId": "02adc663-6888-4447-997e-bb94be5f79f7"
      },
      "source": [
        "a=array([1,2,3])\n",
        "b=array([1,2,3])\n",
        "print(a)\n",
        "print(b)\n",
        "c=a.dot(b)\n",
        "print(c)"
      ],
      "execution_count": 4,
      "outputs": [
        {
          "output_type": "stream",
          "text": [
            "[1 2 3]\n",
            "[1 2 3]\n",
            "14\n"
          ],
          "name": "stdout"
        }
      ]
    },
    {
      "cell_type": "markdown",
      "metadata": {
        "id": "W-55c_RFFONq"
      },
      "source": [
        "**vector-scalar multiplication**\n",
        "\n",
        "c=s x v\n",
        "\n",
        "\n",
        "c=(s*v1,s*v2,s*v3)"
      ]
    },
    {
      "cell_type": "code",
      "metadata": {
        "colab": {
          "base_uri": "https://localhost:8080/"
        },
        "id": "ymGBplSMa1dF",
        "outputId": "eb4f6da6-a440-4575-eae6-d2c635981917"
      },
      "source": [
        "a=array([1,2,3])\n",
        "s=0.5\n",
        "c=s*a\n",
        "print(c)"
      ],
      "execution_count": 5,
      "outputs": [
        {
          "output_type": "stream",
          "text": [
            "[0.5 1.  1.5]\n"
          ],
          "name": "stdout"
        }
      ]
    },
    {
      "cell_type": "markdown",
      "metadata": {
        "id": "WucYzxSoa7-K"
      },
      "source": [
        "## Vector Norms"
      ]
    },
    {
      "cell_type": "code",
      "metadata": {
        "colab": {
          "base_uri": "https://localhost:8080/"
        },
        "id": "I9H9-iy_a_pG",
        "outputId": "c5dc4deb-207c-48a8-c47b-d0bbe0c114a3"
      },
      "source": [
        "#vector L1 norm\n",
        "from numpy import array\n",
        "from numpy.linalg import norm\n",
        "a=array([1,2,3])\n",
        "print(a)\n",
        "l1=norm(a,1)\n",
        "print('norm l1: ',l1)\n",
        "\n",
        "#vector L2 norm\n",
        "l2=norm(a)\n",
        "print('norml2: ',l2)\n",
        "\n",
        "from math import inf\n",
        "#vector max norm\n",
        "maxnorm=norm(a,inf)\n",
        "print('maxnorm: ',maxnorm)"
      ],
      "execution_count": 6,
      "outputs": [
        {
          "output_type": "stream",
          "text": [
            "[1 2 3]\n",
            "norm l1:  6.0\n",
            "norml2:  3.7416573867739413\n",
            "maxnorm:  3.0\n"
          ],
          "name": "stdout"
        }
      ]
    },
    {
      "cell_type": "markdown",
      "metadata": {
        "id": "JIxhxcVobHId"
      },
      "source": [
        "##Matrices and Matrix Artihmetic"
      ]
    },
    {
      "cell_type": "code",
      "metadata": {
        "colab": {
          "base_uri": "https://localhost:8080/"
        },
        "id": "5tk1qZ5wbJdE",
        "outputId": "04c8737a-a978-494b-dbbc-65ae4410e708"
      },
      "source": [
        "#Create matrix\n",
        "from numpy import array\n",
        "A=array([[1,2,3],[4,5,6]])\n",
        "print(A)\n",
        "#matrix addition\n",
        "B=array([[1,2,3],[4,5,6]])\n",
        "C=A+B\n",
        "print('C:   ',C)\n",
        "\n",
        "#matrix subtraction\n",
        "D=array([[0.5,0.5,0.5],[0.5,0.5,0.5]])\n",
        "E=A-D\n",
        "print(D)\n",
        "print('A-D:  ',E)"
      ],
      "execution_count": 7,
      "outputs": [
        {
          "output_type": "stream",
          "text": [
            "[[1 2 3]\n",
            " [4 5 6]]\n",
            "C:    [[ 2  4  6]\n",
            " [ 8 10 12]]\n",
            "[[0.5 0.5 0.5]\n",
            " [0.5 0.5 0.5]]\n",
            "A-D:   [[0.5 1.5 2.5]\n",
            " [3.5 4.5 5.5]]\n"
          ],
          "name": "stdout"
        }
      ]
    },
    {
      "cell_type": "markdown",
      "metadata": {
        "id": "3Qsa-GPQ6qWY"
      },
      "source": [
        "**hadamard product(matrix product)**\n",
        "\n",
        "C = A ◦ B\n",
        "\n",
        "\n",
        "\n",
        "aynı satır ve sütun koordinatına sahip noktalar çarpılır sonuç matrisinin yine aynı satır sütununa yazılır\n"
      ]
    },
    {
      "cell_type": "code",
      "metadata": {
        "colab": {
          "base_uri": "https://localhost:8080/"
        },
        "id": "JWcqqBpvbVGk",
        "outputId": "b91dfc52-9dd3-463b-c5dc-67078ab6d8bb"
      },
      "source": [
        "a=array([[1,2,3],[4,5,6]])\n",
        "b=array([[1,2,3],[4,5,6]])\n",
        "#multiply matrices\n",
        "c=a*b\n",
        "print(a)\n",
        "print(c)\n",
        "d=a/b\n",
        "print(d)"
      ],
      "execution_count": 8,
      "outputs": [
        {
          "output_type": "stream",
          "text": [
            "[[1 2 3]\n",
            " [4 5 6]]\n",
            "[[ 1  4  9]\n",
            " [16 25 36]]\n",
            "[[1. 1. 1.]\n",
            " [1. 1. 1.]]\n"
          ],
          "name": "stdout"
        }
      ]
    },
    {
      "cell_type": "markdown",
      "metadata": {
        "id": "28C-Etnj76ZS"
      },
      "source": [
        "**matrix multiplication**\n",
        "\n",
        "C=A.B\n",
        "C(m,k)=A(m,n).B(n,k)\n",
        "columns' A is equal rows' B\n",
        "A 3x2 ve B 2x2 olsun\n",
        "Anın 1. satırı bnin 1.sütunu ile çarpılıp toplanır Cnin ilk elemanı olur."
      ]
    },
    {
      "cell_type": "code",
      "metadata": {
        "colab": {
          "base_uri": "https://localhost:8080/"
        },
        "id": "VWy601Xqblx4",
        "outputId": "11f3a2b4-dc25-4fca-b9f1-21c141aa2808"
      },
      "source": [
        "A=array([[1,2],\n",
        "         [3,4],\n",
        "         [5,6]])\n",
        "\n",
        "B=array([[1,2],\n",
        "         [3,4]])\n",
        "#multiply matrices\n",
        "C=A.dot(B)\n",
        "print(C)\n",
        "#multiply matrices with @operator\n",
        "D=A@B\n",
        "print(D)"
      ],
      "execution_count": 9,
      "outputs": [
        {
          "output_type": "stream",
          "text": [
            "[[ 7 10]\n",
            " [15 22]\n",
            " [23 34]]\n",
            "[[ 7 10]\n",
            " [15 22]\n",
            " [23 34]]\n"
          ],
          "name": "stdout"
        }
      ]
    },
    {
      "cell_type": "code",
      "metadata": {
        "colab": {
          "base_uri": "https://localhost:8080/"
        },
        "id": "L2eJcHY-cUpH",
        "outputId": "fd231eaf-02ed-4cd4-876e-073e8091fcec"
      },
      "source": [
        "#C=AB matrix-vector mulptiplication\n",
        "A=array([[1,2],\n",
        "         [3,4],\n",
        "         [5,6]])\n",
        "B=array([0.5,0.5])\n",
        "C=A.dot(B)\n",
        "#C=Ab matrix-scalar multiplication\n",
        "b=0.5\n",
        "D=A*b\n",
        "print(C)\n",
        "print(D)"
      ],
      "execution_count": 10,
      "outputs": [
        {
          "output_type": "stream",
          "text": [
            "[1.5 3.5 5.5]\n",
            "[[0.5 1. ]\n",
            " [1.5 2. ]\n",
            " [2.5 3. ]]\n"
          ],
          "name": "stdout"
        }
      ]
    },
    {
      "cell_type": "markdown",
      "metadata": {
        "id": "i_X6PRu0Ar1_"
      },
      "source": [
        "## **Matrix Types**\n",
        "\n",
        "> Square Matrix\n",
        "\n",
        "> Symmetric Matrix\n",
        "\n",
        "> Triangular Matrix\n",
        "\n",
        "> Diagonal Matrix\n",
        "\n",
        "> Identity Matrix\n",
        "\n",
        "> Orthogonal Matrix\n",
        "\n",
        "\n",
        "\n",
        "\n",
        "\n",
        "\n",
        "\n",
        "\n",
        "\n",
        "\n",
        "\n"
      ]
    },
    {
      "cell_type": "markdown",
      "metadata": {
        "id": "KQNzEZObOcYB"
      },
      "source": [
        "**square matrix**\n",
        "\n",
        " rows number=columns number\n",
        "\n",
        " **Symmetric matrix**\n",
        "\n",
        " M = M(transpose)  Mi,j=Mj,i\n",
        "\n",
        " **Triangular matrix**\n",
        "\n",
        " it may be lower or upper matrix\n",
        "\n"
      ]
    },
    {
      "cell_type": "code",
      "metadata": {
        "colab": {
          "base_uri": "https://localhost:8080/"
        },
        "id": "h6BC5Zbgcn14",
        "outputId": "4ce7c8c4-27f3-428f-fa49-4d601a0251de"
      },
      "source": [
        "#triangular matrices\n",
        "from numpy import array\n",
        "from numpy import tril\n",
        "from numpy import triu\n",
        "\n",
        "M=array([[1,2,3],[1,2,3],[1,2,3]])\n",
        "print(M)\n",
        "\n",
        "#lower triangular matrix\n",
        "lower=tril(M)\n",
        "print(lower)\n",
        "\n",
        "#upper triangularr matrix\n",
        "upper=triu(M)\n",
        "print(upper)"
      ],
      "execution_count": 11,
      "outputs": [
        {
          "output_type": "stream",
          "text": [
            "[[1 2 3]\n",
            " [1 2 3]\n",
            " [1 2 3]]\n",
            "[[1 0 0]\n",
            " [1 2 0]\n",
            " [1 2 3]]\n",
            "[[1 2 3]\n",
            " [0 2 3]\n",
            " [0 0 3]]\n"
          ],
          "name": "stdout"
        }
      ]
    },
    {
      "cell_type": "markdown",
      "metadata": {
        "id": "93nT9BJSP6Hq"
      },
      "source": [
        "**Diagonal matrix**\n",
        "\n",
        "All elements except the diagonal are zero.The diagonal can take different values."
      ]
    },
    {
      "cell_type": "code",
      "metadata": {
        "colab": {
          "base_uri": "https://localhost:8080/"
        },
        "id": "HmmVz6TVcyBX",
        "outputId": "46b1a095-bc6f-4306-9e70-298111985c6f"
      },
      "source": [
        "#diagonal martix\n",
        "from numpy import array\n",
        "from numpy import diag\n",
        "\n",
        "M=array([[1,2,3],\n",
        "         [1,2,3],\n",
        "         [1,2,3]])\n",
        "print(M)\n",
        "#extract diagonal vector\n",
        "d=diag(M)\n",
        "print('d: ',d)\n",
        "#create diagonal matrix from vector\n",
        "\n",
        "D=diag(d)\n",
        "print(D)\n",
        "\n",
        "a=array([1,2,3,4,5,6])\n",
        "A=diag(a)\n",
        "print('A: ',A)\n",
        "\n",
        "\n",
        "b=array([[12,23,4,45],\n",
        "        [12,45,78,7],\n",
        "        [54,65,98,54],\n",
        "        [36,25,14,98]])\n",
        "g=diag(b)\n",
        "G=diag(g)\n",
        "print(g)\n",
        "print(G)"
      ],
      "execution_count": 12,
      "outputs": [
        {
          "output_type": "stream",
          "text": [
            "[[1 2 3]\n",
            " [1 2 3]\n",
            " [1 2 3]]\n",
            "d:  [1 2 3]\n",
            "[[1 0 0]\n",
            " [0 2 0]\n",
            " [0 0 3]]\n",
            "A:  [[1 0 0 0 0 0]\n",
            " [0 2 0 0 0 0]\n",
            " [0 0 3 0 0 0]\n",
            " [0 0 0 4 0 0]\n",
            " [0 0 0 0 5 0]\n",
            " [0 0 0 0 0 6]]\n",
            "[12 45 98 98]\n",
            "[[12  0  0  0]\n",
            " [ 0 45  0  0]\n",
            " [ 0  0 98  0]\n",
            " [ 0  0  0 98]]\n"
          ],
          "name": "stdout"
        }
      ]
    },
    {
      "cell_type": "markdown",
      "metadata": {
        "id": "Gc8ZptI6Ueq4"
      },
      "source": [
        "**IDentity matrix**\n"
      ]
    },
    {
      "cell_type": "code",
      "metadata": {
        "colab": {
          "base_uri": "https://localhost:8080/"
        },
        "id": "XkMV8CB2uEQz",
        "outputId": "51df941a-63e4-4058-a951-20146800aa84"
      },
      "source": [
        "#identity matrix\n",
        "from numpy import identity\n",
        "I=identity(3)\n",
        "print(I)"
      ],
      "execution_count": 13,
      "outputs": [
        {
          "output_type": "stream",
          "text": [
            "[[1. 0. 0.]\n",
            " [0. 1. 0.]\n",
            " [0. 0. 1.]]\n"
          ],
          "name": "stdout"
        }
      ]
    },
    {
      "cell_type": "markdown",
      "metadata": {
        "id": "FrS5FnWeVQBS"
      },
      "source": [
        "**Orthogonal matrix**\n",
        "\n",
        "Two vectors are orthogonal when their dot product equals zero. The length of each vector is 1 then the vectors are called orthonormal because they are both orthogonal and normalized.\n",
        "v . w = 0      or     v . w(transpose)=0\n",
        "\n",
        "A matrix is orthogonal if its transpose is equal to its inverse."
      ]
    },
    {
      "cell_type": "code",
      "metadata": {
        "colab": {
          "base_uri": "https://localhost:8080/"
        },
        "id": "Q9zf3XZ0ue-Q",
        "outputId": "68c13e82-6252-4728-ad17-17ebada0b144"
      },
      "source": [
        "#orthogonal matrix\n",
        "from numpy.linalg import inv\n",
        "Q=array([[1,0],\n",
        "         [0,-1]])\n",
        "print(Q)\n",
        "#inverse equivalence\n",
        "V=inv(Q)\n",
        "print(Q.T)\n",
        "print(V)\n",
        "\n",
        "#identity equivalence\n",
        "I=Q.dot(Q.T)\n",
        "print(I)"
      ],
      "execution_count": 14,
      "outputs": [
        {
          "output_type": "stream",
          "text": [
            "[[ 1  0]\n",
            " [ 0 -1]]\n",
            "[[ 1  0]\n",
            " [ 0 -1]]\n",
            "[[ 1.  0.]\n",
            " [-0. -1.]]\n",
            "[[1 0]\n",
            " [0 1]]\n"
          ],
          "name": "stdout"
        }
      ]
    },
    {
      "cell_type": "markdown",
      "metadata": {
        "id": "qPHl2c1iXxzX"
      },
      "source": [
        "Note, sometimes a number close to zero can be represented as -0 due to the rounding of floating point precision. Just take it as 0.0. Orthogonal matrices are useful tools as they are\n",
        "computationally cheap and stable to calculate their inverse as simply their transpose."
      ]
    },
    {
      "cell_type": "markdown",
      "metadata": {
        "id": "ViLU8RJZYXJj"
      },
      "source": [
        "# **MATRIX OPERATIONS**\n",
        "\n",
        "\n",
        "> Transpose\n",
        "\n",
        "> Inverse\n",
        "\n",
        "> Trace\n",
        "\n",
        "> Determinant\n",
        "\n",
        "> Rank\n",
        "\n",
        "\n",
        "\n",
        "\n",
        "\n",
        "\n",
        "\n",
        "\n",
        "\n"
      ]
    },
    {
      "cell_type": "code",
      "metadata": {
        "id": "wIQq0c0tuqRy"
      },
      "source": [
        "#Transpose matrix C=A^T\n",
        "from numpy import array\n",
        "A=array([[1,2],\n",
        "         [3,4],\n",
        "         [5,6]])\n",
        "print(A)\n",
        "\n",
        "#calculate transpose\n",
        "C=A.T\n",
        "print(C)"
      ],
      "execution_count": null,
      "outputs": []
    },
    {
      "cell_type": "code",
      "metadata": {
        "id": "2THvS5n4vdo0"
      },
      "source": [
        "#Inv () işlevi kullanılarak NumPy'da bir matris ters çevrilebilir\n",
        "\n",
        "from numpy.linalg import inv\n",
        "A=array([[1.0,2.0],\n",
        "         [3.0,4.0]])\n",
        "print(A)\n",
        "B=inv(A)\n",
        "print(B)\n",
        "#multiply A and B\n",
        "I=A.dot(B)\n",
        "print(I)"
      ],
      "execution_count": null,
      "outputs": []
    },
    {
      "cell_type": "markdown",
      "metadata": {
        "id": "-0bVien7uTaZ"
      },
      "source": [
        "Note, your specific results may vary given differences in  floating point precision on different hardware and software versions. Matrix inversion is used as an operation in solving systems of equations framed as matrix equations where we are interested in finding vectors of unknowns.\n",
        "A good example is in finding the vector of coeficient values in linear regression."
      ]
    },
    {
      "cell_type": "code",
      "metadata": {
        "colab": {
          "base_uri": "https://localhost:8080/"
        },
        "id": "bd3vq2yPvs7B",
        "outputId": "77e73219-8fc2-4799-cf04-e38e6a902a16"
      },
      "source": [
        "#matrix trace\n",
        "from numpy import trace\n",
        "A=array([[1,2,3],\n",
        "         [4,5,6],\n",
        "         [7,8,9]])\n",
        "print(A)\n",
        "#calculate trace\n",
        "B=trace(A)\n",
        "print(B)\n"
      ],
      "execution_count": 15,
      "outputs": [
        {
          "output_type": "stream",
          "text": [
            "[[1 2 3]\n",
            " [4 5 6]\n",
            " [7 8 9]]\n",
            "15\n"
          ],
          "name": "stdout"
        }
      ]
    },
    {
      "cell_type": "markdown",
      "metadata": {
        "id": "Bw_DltFd-Dz7"
      },
      "source": [
        "**Determinant**"
      ]
    },
    {
      "cell_type": "code",
      "metadata": {
        "colab": {
          "base_uri": "https://localhost:8080/"
        },
        "id": "oNzbY3gkwo8G",
        "outputId": "4f4bc11c-1d42-49cb-e89e-99816b28cc8b"
      },
      "source": [
        "#matrix determinant\n",
        "from numpy import array\n",
        "from numpy.linalg import det\n",
        "\n",
        "A=array([\n",
        "         [1,2,3],\n",
        "         [4,5,6],\n",
        "         [7,8,9]])\n",
        "print(A)\n",
        "#calculate determinant\n",
        "B=det(A)\n",
        "print(B)"
      ],
      "execution_count": 16,
      "outputs": [
        {
          "output_type": "stream",
          "text": [
            "[[1 2 3]\n",
            " [4 5 6]\n",
            " [7 8 9]]\n",
            "0.0\n"
          ],
          "name": "stdout"
        }
      ]
    },
    {
      "cell_type": "markdown",
      "metadata": {
        "id": "hJ3sr7vg_t-N"
      },
      "source": [
        "**Rank**\n",
        "\n",
        "Vektörlerin oluşturduğu boyutların sayısını ifade eder.Örneğin, 0 rankı tüm vektörlerin bir noktaya yayıldığını gösterirken rank= 1 için tüm vektörler bir doğruya yayılır.Rank=2 tüm vektörlerin iki boyutlu bir düzlemde yer aldığını gösterir."
      ]
    },
    {
      "cell_type": "code",
      "metadata": {
        "colab": {
          "base_uri": "https://localhost:8080/"
        },
        "id": "0oHct5XLxn9T",
        "outputId": "89e64a90-9368-438d-f6cb-68bedaccf02c"
      },
      "source": [
        "#vector rank\n",
        "from numpy import array\n",
        "from numpy.linalg import matrix_rank\n",
        "\n",
        "#rank\n",
        "v1=array([1,2,3])\n",
        "print(v1)\n",
        "rank1=matrix_rank(v1)\n",
        "print(rank1)\n",
        "\n",
        "#zero rank\n",
        "v2=array([0,0,0,0,0])\n",
        "print(v2)\n",
        "rank2=matrix_rank(v2)\n",
        "print(rank2)"
      ],
      "execution_count": 17,
      "outputs": [
        {
          "output_type": "stream",
          "text": [
            "[1 2 3]\n",
            "1\n",
            "[0 0 0 0 0]\n",
            "0\n"
          ],
          "name": "stdout"
        }
      ]
    },
    {
      "cell_type": "code",
      "metadata": {
        "colab": {
          "base_uri": "https://localhost:8080/"
        },
        "id": "weNs0lE3x1Bm",
        "outputId": "427df345-6630-4da7-c0cc-ec00c1214275"
      },
      "source": [
        "#matrix rank\n",
        "from numpy import array\n",
        "from numpy.linalg import matrix_rank\n",
        "#rank0\n",
        "M0=array([[0,0],\n",
        "          [0,0]])\n",
        "print(M0)\n",
        "R0=matrix_rank(M0)\n",
        "print('R0: ',R0)\n",
        "\n",
        "#rank1\n",
        "M1=array([[1,2],\n",
        "          [1,2]])\n",
        "print(M1)\n",
        "R1=matrix_rank(M1)\n",
        "print('R1: ',R1)\n",
        "\n",
        "\n",
        "#rank2\n",
        "M2=array([[1,2],\n",
        "          [3,4]])\n",
        "print(M2)\n",
        "R2=matrix_rank(M2)\n",
        "print('R2: ',R2)"
      ],
      "execution_count": 18,
      "outputs": [
        {
          "output_type": "stream",
          "text": [
            "[[0 0]\n",
            " [0 0]]\n",
            "R0:  0\n",
            "[[1 2]\n",
            " [1 2]]\n",
            "R1:  1\n",
            "[[1 2]\n",
            " [3 4]]\n",
            "R2:  2\n"
          ],
          "name": "stdout"
        }
      ]
    },
    {
      "cell_type": "markdown",
      "metadata": {
        "id": "hhTdbKhgM6Hd"
      },
      "source": [
        "**Sparse matrix**\n",
        "\n",
        "A matrix is sparse if many of its coeficients are zero. The interest in sparsity arises\n",
        "because its exploitation can lead to enormous computational savings and because\n",
        "many large matrix problems that occur in practice are sparse.\n",
        "| Page 1, Direct Methods for Sparse Matrices, Second Edition, 2017\n",
        "\n",
        "sparsity=1-count of non-zero elements/total elements\n",
        "The example has 13 zero values of the 18 elements in the matrix, giving this matrix a sparsity\n",
        "score of 0.722 or about 72%."
      ]
    },
    {
      "cell_type": "code",
      "metadata": {
        "colab": {
          "base_uri": "https://localhost:8080/"
        },
        "id": "2AadIp8PyVaz",
        "outputId": "275a43a5-7e60-4d7c-a40b-acf407249d21"
      },
      "source": [
        "#sparse matrix\n",
        "from numpy import array\n",
        "from scipy.sparse import csr_matrix\n",
        "#create dense matrix\n",
        "A=array([\n",
        "         [1,0,0,1,0,0],\n",
        "         [0,0,2,0,0,1],\n",
        "         [0,0,0,2,0,0]\n",
        "])\n",
        "print(A)\n",
        "\n",
        "#convert to sparse matrix(CSR method)\n",
        "S=csr_matrix(A)\n",
        "print(S)\n",
        "\n",
        "#reconstruct dense matrix\n",
        "B=S.todense()\n",
        "print(B)"
      ],
      "execution_count": 19,
      "outputs": [
        {
          "output_type": "stream",
          "text": [
            "[[1 0 0 1 0 0]\n",
            " [0 0 2 0 0 1]\n",
            " [0 0 0 2 0 0]]\n",
            "  (0, 0)\t1\n",
            "  (0, 3)\t1\n",
            "  (1, 2)\t2\n",
            "  (1, 5)\t1\n",
            "  (2, 3)\t2\n",
            "[[1 0 0 1 0 0]\n",
            " [0 0 2 0 0 1]\n",
            " [0 0 0 2 0 0]]\n"
          ],
          "name": "stdout"
        }
      ]
    },
    {
      "cell_type": "markdown",
      "metadata": {
        "id": "K5lkDFGAiGwT"
      },
      "source": [
        "sparsity = 1.0 - count_nonzero (A) / A.size"
      ]
    },
    {
      "cell_type": "code",
      "metadata": {
        "id": "EFI4ZwazyfMy"
      },
      "source": [
        "#sparsity calculation\n",
        "from numpy import array\n",
        "from numpy import count_nonzero\n",
        "#create dense matrix\n",
        "A=array([\n",
        "         [1,0,0,1,0,0],\n",
        "         [0,0,2,0,0,1],\n",
        "         [0,0,0,2,0,0]\n",
        "])\n",
        "print(A)\n",
        "sparsity = 1.0 - count_nonzero(A) / A.size\n",
        "print(sparsity)"
      ],
      "execution_count": null,
      "outputs": []
    }
  ]
}