{
  "nbformat": 4,
  "nbformat_minor": 0,
  "metadata": {
    "colab": {
      "name": "Intro2NumpyArray.ipynb",
      "provenance": []
    },
    "kernelspec": {
      "name": "python3",
      "display_name": "Python 3"
    },
    "language_info": {
      "name": "python"
    }
  },
  "cells": [
    {
      "cell_type": "code",
      "metadata": {
        "colab": {
          "base_uri": "https://localhost:8080/"
        },
        "id": "akpEGc5WDKkk",
        "outputId": "8f682ebb-6ced-4d8a-e84b-a1c75bf155ec"
      },
      "source": [
        "from google.colab import drive\n",
        "drive.mount('/content/drive')"
      ],
      "execution_count": null,
      "outputs": [
        {
          "output_type": "stream",
          "text": [
            "Mounted at /content/drive\n"
          ],
          "name": "stdout"
        }
      ]
    },
    {
      "cell_type": "code",
      "metadata": {
        "id": "rwp6u74VDcpI"
      },
      "source": [
        "from numpy import array\n",
        "l=[1.0,2.0,3.0]\n",
        "a=array(l)\n",
        "print(a)\n",
        "print(a.shape)\n",
        "print(a.dtype)\n",
        "#create empty array\n",
        "from numpy import empty\n",
        "a=empty([3,3])\n",
        "print(a) \n",
        "#create zero array\n",
        "from numpy import zeros\n",
        "a=zeros([3,5])\n",
        "print(a)\n",
        "#create one array\n",
        "\n",
        "from numpy import ones\n",
        "a=ones([5])\n",
        "b=ones([5,6])\n",
        "print(a)\n",
        "print(b)\n",
        "\n",
        "#create array with vstack\n",
        "from numpy import vstack\n",
        "#create first array\n",
        "a1=array([1,2,3])\n",
        "print(a1)\n",
        "#second array\n",
        "a2=array([4,5,6])\n",
        "print(a2)\n",
        "#vertical stack\n",
        "a3=vstack((a1,a2))\n",
        "print(a3)\n",
        "print(a3.shape)\n",
        "#create array with hstack\n",
        "from numpy import hstack\n",
        "#first array\n",
        "a=array([1,2,3])\n",
        "print(a)\n",
        "b=array([4,5,6])\n",
        "print(b)\n",
        "c=hstack((a,b))\n",
        "print(c)\n",
        "print(c.shape)"
      ],
      "execution_count": null,
      "outputs": []
    }
  ]
}